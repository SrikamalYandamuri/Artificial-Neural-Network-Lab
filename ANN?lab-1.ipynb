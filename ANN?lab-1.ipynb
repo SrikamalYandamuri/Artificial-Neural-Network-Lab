{
  "nbformat": 4,
  "nbformat_minor": 0,
  "metadata": {
    "colab": {
      "provenance": [],
      "authorship_tag": "ABX9TyPMJP+Hg6ne5sSgiGQ9kpWK",
      "include_colab_link": true
    },
    "kernelspec": {
      "name": "python3",
      "display_name": "Python 3"
    },
    "language_info": {
      "name": "python"
    }
  },
  "cells": [
    {
      "cell_type": "markdown",
      "metadata": {
        "id": "view-in-github",
        "colab_type": "text"
      },
      "source": [
        "<a href=\"https://colab.research.google.com/github/SrikamalYandamuri/Artificial-Neural-Network-Lab/blob/main/ANN%3Flab-1.ipynb\" target=\"_parent\"><img src=\"https://colab.research.google.com/assets/colab-badge.svg\" alt=\"Open In Colab\"/></a>"
      ]
    },
    {
      "cell_type": "code",
      "execution_count": 1,
      "metadata": {
        "colab": {
          "base_uri": "https://localhost:8080/"
        },
        "id": "fRftPArRvpih",
        "outputId": "03ff1a95-471d-4ebc-cf5a-fba0fdacd2e0"
      },
      "outputs": [
        {
          "output_type": "stream",
          "name": "stdout",
          "text": [
            "AND function results:\n",
            "Input: (0, 0, 0), Output: 0\n",
            "Input: (0, 0, 1), Output: 0\n",
            "Input: (0, 1, 0), Output: 0\n",
            "Input: (0, 1, 1), Output: 0\n",
            "Input: (1, 0, 0), Output: 0\n",
            "Input: (1, 0, 1), Output: 0\n",
            "Input: (1, 1, 0), Output: 0\n",
            "Input: (1, 1, 1), Output: 1\n",
            "\n",
            "OR function results:\n",
            "Input: (0, 0, 0), Output: 0\n",
            "Input: (0, 0, 1), Output: 1\n",
            "Input: (0, 1, 0), Output: 1\n",
            "Input: (0, 1, 1), Output: 1\n",
            "Input: (1, 0, 0), Output: 1\n",
            "Input: (1, 0, 1), Output: 1\n",
            "Input: (1, 1, 0), Output: 1\n",
            "Input: (1, 1, 1), Output: 1\n",
            "\n",
            "NOR function results:\n",
            "Input: (0, 0, 0), Output: 1\n",
            "Input: (0, 0, 1), Output: 1\n",
            "Input: (0, 1, 0), Output: 1\n",
            "Input: (0, 1, 1), Output: 0\n",
            "Input: (1, 0, 0), Output: 1\n",
            "Input: (1, 0, 1), Output: 0\n",
            "Input: (1, 1, 0), Output: 0\n",
            "Input: (1, 1, 1), Output: 0\n",
            "\n",
            "NAND function results:\n",
            "Input: (0, 0, 0), Output: 1\n",
            "Input: (0, 0, 1), Output: 1\n",
            "Input: (0, 1, 0), Output: 1\n",
            "Input: (0, 1, 1), Output: 1\n",
            "Input: (1, 0, 0), Output: 1\n",
            "Input: (1, 0, 1), Output: 1\n",
            "Input: (1, 1, 0), Output: 1\n",
            "Input: (1, 1, 1), Output: 0\n"
          ]
        }
      ],
      "source": [
        "def mcCullochPittsModel(weights, inputs, threshold):\n",
        "    activation = sum(w * i for w, i in zip(weights, inputs))\n",
        "    return 1 if activation >= threshold else 0\n",
        "inputs = [\n",
        "    (0, 0, 0),\n",
        "    (0, 0, 1),\n",
        "    (0, 1, 0),\n",
        "    (0, 1, 1),\n",
        "    (1, 0, 0),\n",
        "    (1, 0, 1),\n",
        "    (1, 1, 0),\n",
        "    (1, 1, 1)\n",
        "]\n",
        "weights_and = [1, 1, 1]\n",
        "threshold_and = 3\n",
        "outputs_and = [mcCullochPittsModel(weights_and, inp, threshold_and) for inp in inputs]\n",
        "weights_or = [1, 1, 1]\n",
        "threshold_or = 1\n",
        "outputs_or = [mcCullochPittsModel(weights_or, inp, threshold_or) for inp in inputs]\n",
        "weights_nor = [-1, -1, -1]\n",
        "threshold_nor = -1\n",
        "outputs_nor = [mcCullochPittsModel(weights_nor, inp, threshold_nor) for inp in inputs]\n",
        "weights_nand = [-1, -1, -1]\n",
        "threshold_nand = -2\n",
        "outputs_nand = [mcCullochPittsModel(weights_nand, inp, threshold_nand) for inp in inputs]\n",
        "print(\"AND function results:\")\n",
        "for inp, output in zip(inputs, outputs_and):\n",
        "    print(f\"Input: {inp}, Output: {output}\")\n",
        "\n",
        "print(\"\\nOR function results:\")\n",
        "for inp, output in zip(inputs, outputs_or):\n",
        "    print(f\"Input: {inp}, Output: {output}\")\n",
        "\n",
        "print(\"\\nNOR function results:\")\n",
        "for inp, output in zip(inputs, outputs_nor):\n",
        "    print(f\"Input: {inp}, Output: {output}\")\n",
        "\n",
        "print(\"\\nNAND function results:\")\n",
        "for inp, output in zip(inputs, outputs_nand):\n",
        "    print(f\"Input: {inp}, Output: {output}\")"
      ]
    }
  ]
}